{
 "cells": [
  {
   "cell_type": "code",
   "execution_count": 8,
   "metadata": {
    "collapsed": true
   },
   "outputs": [],
   "source": [
    "import json"
   ]
  },
  {
   "cell_type": "code",
   "execution_count": 9,
   "metadata": {
    "collapsed": true
   },
   "outputs": [],
   "source": [
    "song_name = \"this life\"\n",
    "song_tags = [\"PTP\", \"life\", \"friendship\"]\n",
    "song_Lyric = \"I konw ......\""
   ]
  },
  {
   "cell_type": "code",
   "execution_count": 10,
   "metadata": {
    "collapsed": true
   },
   "outputs": [],
   "source": [
    "deta1 = {\"song_name\":song_name, \"song_tags\":song_tags}"
   ]
  },
  {
   "cell_type": "code",
   "execution_count": 11,
   "metadata": {
    "collapsed": true
   },
   "outputs": [],
   "source": [
    "song_name2 = \"Rain\"\n",
    "song_tags2 = [\"PTP\", \"lose\", \"regret\"]\n",
    "song_Lyric2 = \"Rain ......\""
   ]
  },
  {
   "cell_type": "code",
   "execution_count": 15,
   "metadata": {
    "collapsed": true
   },
   "outputs": [],
   "source": [
    "deta2 = {\"song_name\":song_name2, \"song_tags\":song_tags2}"
   ]
  },
  {
   "cell_type": "code",
   "execution_count": 17,
   "metadata": {},
   "outputs": [],
   "source": [
    "Deta_List = [deta1, deta2]"
   ]
  },
  {
   "cell_type": "code",
   "execution_count": 18,
   "metadata": {
    "collapsed": true
   },
   "outputs": [],
   "source": [
    "J_Deta = json.dumps(Deta_List)"
   ]
  },
  {
   "cell_type": "code",
   "execution_count": 19,
   "metadata": {},
   "outputs": [
    {
     "data": {
      "text/plain": [
       "'[{\"song_name\": \"this life\", \"song_tags\": [\"PTP\", \"life\", \"friendship\"]}, {\"song_name\": \"Rain\", \"song_tags\": [\"PTP\", \"lose\", \"regret\"]}]'"
      ]
     },
     "execution_count": 19,
     "metadata": {},
     "output_type": "execute_result"
    }
   ],
   "source": [
    "J_Deta"
   ]
  },
  {
   "cell_type": "code",
   "execution_count": 21,
   "metadata": {},
   "outputs": [
    {
     "data": {
      "text/plain": [
       "str"
      ]
     },
     "execution_count": 21,
     "metadata": {},
     "output_type": "execute_result"
    }
   ],
   "source": [
    "type(J_Deta)"
   ]
  },
  {
   "cell_type": "code",
   "execution_count": 39,
   "metadata": {},
   "outputs": [],
   "source": [
    "class Song(object):\n",
    "    \n",
    "    def __init__(self,no,name):\n",
    "        self.no = no\n",
    "        self.name = name\n",
    "        self.tags = []\n",
    "        \n",
    "    def add_tag(self,tag):\n",
    "        self.tags.append(tag)\n",
    "    \n",
    "    def add_lyric(self,lyric):\n",
    "        self.lyric = lyric\n",
    "    \n",
    "    def __str__(self):\n",
    "        return str(self.no)+' : '+str(self.name)+'\\n'+str(self.tags)"
   ]
  },
  {
   "cell_type": "code",
   "execution_count": 41,
   "metadata": {},
   "outputs": [],
   "source": [
    "song1 = Song(str(1).zfill(5),song_name)\n",
    "song2 = Song(str(2).zfill(5),song_name2)"
   ]
  },
  {
   "cell_type": "code",
   "execution_count": 42,
   "metadata": {
    "collapsed": true
   },
   "outputs": [],
   "source": [
    "Song_List = [song1, song2]"
   ]
  },
  {
   "cell_type": "code",
   "execution_count": 45,
   "metadata": {},
   "outputs": [
    {
     "name": "stdout",
     "output_type": "stream",
     "text": [
      "00001 : this life\n",
      "['PTP', 'life', 'friendship']\n"
     ]
    }
   ],
   "source": [
    "print(Song_List[0])"
   ]
  },
  {
   "cell_type": "code",
   "execution_count": 46,
   "metadata": {},
   "outputs": [],
   "source": [
    "song1.add_tag(song_tags[0])\n",
    "song1.add_tag(song_tags[1])\n",
    "song1.add_tag(song_tags[2])"
   ]
  },
  {
   "cell_type": "code",
   "execution_count": 47,
   "metadata": {
    "collapsed": true
   },
   "outputs": [],
   "source": [
    "song2.add_tag(song_tags2[0])\n",
    "song2.add_tag(song_tags2[1])\n",
    "song2.add_tag(song_tags2[2])"
   ]
  },
  {
   "cell_type": "code",
   "execution_count": 48,
   "metadata": {},
   "outputs": [
    {
     "name": "stdout",
     "output_type": "stream",
     "text": [
      "00001 : this life\n",
      "['PTP', 'life', 'friendship', 'PTP', 'life', 'friendship']\n"
     ]
    }
   ],
   "source": [
    "print(Song_List[0])"
   ]
  },
  {
   "cell_type": "code",
   "execution_count": 51,
   "metadata": {},
   "outputs": [],
   "source": [
    "#J_Class = json.dumps(Song_List)\n",
    "#it's can't conver class to Json directly\n",
    "#need to write function\n",
    "#refer http://kuma-uni.blogspot.tw/2012/06/jsonpythonjson.html"
   ]
  },
  {
   "cell_type": "code",
   "execution_count": null,
   "metadata": {
    "collapsed": true
   },
   "outputs": [],
   "source": []
  }
 ],
 "metadata": {
  "kernelspec": {
   "display_name": "Python 3",
   "language": "python",
   "name": "python3"
  },
  "language_info": {
   "codemirror_mode": {
    "name": "ipython",
    "version": 3
   },
   "file_extension": ".py",
   "mimetype": "text/x-python",
   "name": "python",
   "nbconvert_exporter": "python",
   "pygments_lexer": "ipython3",
   "version": "3.6.1"
  }
 },
 "nbformat": 4,
 "nbformat_minor": 2
}
